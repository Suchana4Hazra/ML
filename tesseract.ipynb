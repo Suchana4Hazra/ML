{
 "cells": [
  {
   "cell_type": "code",
   "execution_count": 94,
   "id": "b82f8e07-3c86-41f8-b052-541cb8b2218f",
   "metadata": {},
   "outputs": [],
   "source": [
    "import pytesseract\n",
    "pytesseract.pytesseract.tesseract_cmd = r'C:\\Program Files\\Tesseract-OCR\\tesseract'"
   ]
  },
  {
   "cell_type": "code",
   "execution_count": 95,
   "id": "89dac232-4516-4b13-b697-e0fe63877986",
   "metadata": {},
   "outputs": [],
   "source": [
    "import cv2"
   ]
  },
  {
   "cell_type": "code",
   "execution_count": 96,
   "id": "f2137814-124f-4094-88ac-212b8d8155dd",
   "metadata": {},
   "outputs": [],
   "source": [
    "# Read the image\n",
    "img = cv2.imread(r'C:\\Users\\Suchana Hazra\\OneDrive\\Desktop\\ml projects\\images\\fig7.png')\n",
    "\n",
    "# Display the preprocessed image\n",
    "cv2.imshow('Preprocessed Image', img)\n",
    "cv2.waitKey(0)\n",
    "cv2.destroyAllWindows()"
   ]
  },
  {
   "cell_type": "code",
   "execution_count": 97,
   "id": "c6cefd79-2cf4-45f3-acd6-8b5ec456a61b",
   "metadata": {},
   "outputs": [
    {
     "name": "stdout",
     "output_type": "stream",
     "text": [
      "Apa Ee: ae ae itakete: 4\n",
      "\n",
      "Age £9 — Sex: M4 _ Date:\n",
      "Ce,\n",
      "Cina pL Thmg Cap+t 2)\n",
      "1: { BX a\n",
      "eyo ee\n",
      "\n",
      "Physician's Sig.\n",
      "Lic. No.\n",
      "PTR No\n",
      "\n",
      "32 No.\n",
      "\n",
      "\n"
     ]
    }
   ],
   "source": [
    "text = pytesseract.image_to_string(img)\n",
    "print(text)"
   ]
  },
  {
   "cell_type": "code",
   "execution_count": null,
   "id": "d15129fd-87db-45ce-8173-76e7f491554b",
   "metadata": {},
   "outputs": [],
   "source": []
  },
  {
   "cell_type": "code",
   "execution_count": null,
   "id": "bafe9d91-bd54-4c01-bf11-6939e2c1a70b",
   "metadata": {},
   "outputs": [],
   "source": []
  }
 ],
 "metadata": {
  "kernelspec": {
   "display_name": "Python 3 (ipykernel)",
   "language": "python",
   "name": "python3"
  },
  "language_info": {
   "codemirror_mode": {
    "name": "ipython",
    "version": 3
   },
   "file_extension": ".py",
   "mimetype": "text/x-python",
   "name": "python",
   "nbconvert_exporter": "python",
   "pygments_lexer": "ipython3",
   "version": "3.12.1"
  }
 },
 "nbformat": 4,
 "nbformat_minor": 5
}
