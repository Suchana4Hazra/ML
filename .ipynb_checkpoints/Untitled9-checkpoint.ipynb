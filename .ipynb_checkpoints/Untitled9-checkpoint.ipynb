{
 "cells": [
  {
   "cell_type": "code",
   "execution_count": 22,
   "id": "4195c2af-a4d2-4b6d-904c-10d2d8de86d6",
   "metadata": {},
   "outputs": [],
   "source": [
    "import os\n",
    "dir_path = r\"C:\\Users\\Suchana Hazra\\OneDrive\\Desktop\\New folder_nlp\"\n",
    "os.chdir(dir_path)"
   ]
  },
  {
   "cell_type": "code",
   "execution_count": 23,
   "id": "5604135d-ee39-4013-9737-6ca2b6c194f2",
   "metadata": {},
   "outputs": [],
   "source": [
    "import PyPDF2\n",
    "file_list = os.listdir(dir_path)"
   ]
  },
  {
   "cell_type": "code",
   "execution_count": 33,
   "id": "9addba1d-35b7-4574-99d3-2c015714584f",
   "metadata": {},
   "outputs": [
    {
     "name": "stdout",
     "output_type": "stream",
     "text": [
      "Contents of the first page of 'bill.pdf': TAX INVOICE\n",
      "Bill To Invoice No.\n",
      "Name\n",
      "Address\n",
      "GSTIN Date\n",
      "Place of Supply\n",
      "SAC Description of Service Amount (Rs.)\n",
      "Taxable Value -                         \n",
      "Add: IGST @ 18% -                         \n",
      "Total Value -                         \n",
      "Amount in words\n",
      "Authorized SignatoryName of Service Provider\n",
      "Address\n",
      "Phone | E-mail\n",
      "GSTIN:\n",
      "Reverse Charge Applicable <Y/N>\n",
      "Bank Details\n",
      "Other Terms & conditions\n"
     ]
    }
   ],
   "source": [
    "from PyPDF2 import PdfReader\n",
    "for file_name in file_list:\n",
    "    if file_name.endswith('.pdf'):  # Check if the file is a PDF file\n",
    "        file_path = os.path.join(dir_path, file_name)\n",
    "        try:\n",
    "            with open(file_path, 'rb') as f:\n",
    "                reader = PdfReader(f)\n",
    "                if len(reader.pages) > 0:\n",
    "                    first_page_text = reader.pages[0].extract_text()\n",
    "                    print(f\"Contents of the first page of '{file_name}': {first_page_text}\")\n",
    "                else:\n",
    "                    print(f\"Empty PDF file: '{file_name}'\")\n",
    "        except FileNotFoundError:\n",
    "            print(f\"File not found: '{file_name}'\")\n",
    "        except Exception as e:\n",
    "            print(f\"Error processing file '{file_name}': {e}\")"
   ]
  },
  {
   "cell_type": "code",
   "execution_count": null,
   "id": "e52cea02-70dc-4b2b-911a-756e24c0f5f8",
   "metadata": {},
   "outputs": [],
   "source": [
    "#text extract from word file"
   ]
  },
  {
   "cell_type": "code",
   "execution_count": 50,
   "id": "aa568937-eb03-4b41-ae11-7b16152185ad",
   "metadata": {},
   "outputs": [
    {
     "name": "stdout",
     "output_type": "stream",
     "text": [
      "I am learning natural language processing in Jupyter Notebook.\n"
     ]
    }
   ],
   "source": [
    "import docx2txt\n",
    "\n",
    "# Full path to the Word document\n",
    "file_path = r'C:\\Users\\Suchana Hazra\\OneDrive\\Desktop\\ml projects\\wordDoc.docx'\n",
    "\n",
    "# Process the Word document\n",
    "result = docx2txt.process(file_path)\n",
    "\n",
    "# Print the result\n",
    "print(result)"
   ]
  },
  {
   "cell_type": "code",
   "execution_count": null,
   "id": "5d2a9b00-b51a-4211-9312-a3a0ab5c19c7",
   "metadata": {},
   "outputs": [],
   "source": []
  }
 ],
 "metadata": {
  "kernelspec": {
   "display_name": "Python 3 (ipykernel)",
   "language": "python",
   "name": "python3"
  },
  "language_info": {
   "codemirror_mode": {
    "name": "ipython",
    "version": 3
   },
   "file_extension": ".py",
   "mimetype": "text/x-python",
   "name": "python",
   "nbconvert_exporter": "python",
   "pygments_lexer": "ipython3",
   "version": "3.12.1"
  }
 },
 "nbformat": 4,
 "nbformat_minor": 5
}
